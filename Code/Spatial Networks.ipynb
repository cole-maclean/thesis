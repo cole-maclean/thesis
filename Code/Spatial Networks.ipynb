{
 "cells": [
  {
   "cell_type": "markdown",
   "metadata": {},
   "source": [
    "<h1>Introduction</h1>\n",
    "<h2>Random Graphs</h2>\n",
    "<h2>Network Characteristics</h2>\n",
    "<h3>Giant Component</h3>\n",
    "<h3>Diameter</h3>\n",
    "<h3>Robustness</h3>\n",
    "<h3>Others (Degree Distribution)</h3>\n",
    "<h2>Spatial Networks</h2>\n",
    "<h1>Spatial Network Model Parameterizations</h1>\n",
    "<h2>R - Max Radius Parameter - RGGs</h2>\n",
    "<h2>Alpha - Distance Weighting Connection Probability</h2>\n",
    "<h2>Theta - Connection Threshold</h2>\n",
    "<h2>R - Alpha - Soft RGGs</h2>\n",
    "<h2>Alpha - Theta - GTGs</h2>\n",
    "<h2>R-Theta - Thresholded RGGs</h2>\n",
    "<h2>R-Alpha-Theta - Thresholded Soft RGGs</h2>\n",
    "<h2>Summary</h2>\n",
    "<h1>Tesla Supercharger Network Case Study</h1>"
   ]
  }
 ],
 "metadata": {
  "kernelspec": {
   "display_name": "Python 3",
   "language": "python",
   "name": "python3"
  },
  "language_info": {
   "codemirror_mode": {
    "name": "ipython",
    "version": 3
   },
   "file_extension": ".py",
   "mimetype": "text/x-python",
   "name": "python",
   "nbconvert_exporter": "python",
   "pygments_lexer": "ipython3",
   "version": "3.5.2"
  }
 },
 "nbformat": 4,
 "nbformat_minor": 2
}
